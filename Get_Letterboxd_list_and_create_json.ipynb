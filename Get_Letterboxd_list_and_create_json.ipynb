{
  "cells": [
    {
      "cell_type": "code",
      "execution_count": 1,
      "metadata": {
        "id": "S1lHpGrjg-qV"
      },
      "outputs": [],
      "source": [
        "import json, requests\n",
        "from bs4 import BeautifulSoup\n",
        "import pandas as pd\n",
        "from tqdm import notebook\n",
        "\n",
        "params = {\n",
        "    'list_url': \"https://letterboxd.com/jack/list/official-top-250-films-with-the-most-fans/\",\n",
        "    'name_of_save_file': \"top_250_fans_films\",\n",
        "    'pages': \"A\", # \"A\" (Natural/ all pages) or number\n",
        "}\n",
        "\n",
        "headers = {'content-type': 'application/json'}\n",
        "\n",
        "r = requests.get(params['list_url'], headers=headers)\n",
        "soup = BeautifulSoup(r.text)\n",
        "\n",
        "if params['pages'] == \"A\":\n",
        "  try:\n",
        "    params['pages'] = int(soup.find(\"div\", class_=\"pagination\").find_all(\"li\")[-1].find(\"a\").text)\n",
        "  except AttributeError:\n",
        "    params['pages'] = 1"
      ]
    },
    {
      "cell_type": "code",
      "execution_count": null,
      "metadata": {
        "id": "vNBgt28xhJdg"
      },
      "outputs": [],
      "source": [
        "def get_page_films(url):\n",
        "  film_infos = []\n",
        "  r = requests.get(url, headers=headers)\n",
        "  soup = BeautifulSoup(r.text)\n",
        "\n",
        "  list_entries = soup.find(class_=\"js-list-entries\")\n",
        "\n",
        "  films_on_page = list_entries.find_all(\"li\")\n",
        "\n",
        "  for film_entry in notebook.tqdm(films_on_page, position=1, leave=False):\n",
        "    film_html = film_entry.find(\"div\")\n",
        "    id = film_html['data-film-id']\n",
        "    name = film_html.find(\"img\")['alt']\n",
        "    # link = \"https://letterboxd.com\" + film_html['data-target-link']\n",
        "    date_and_name = {\n",
        "        'ID': int(id),\n",
        "        'Name': name,\n",
        "    }\n",
        "    film_infos.append(date_and_name)\n",
        "  return film_infos"
      ]
    },
    {
      "cell_type": "code",
      "execution_count": 7,
      "metadata": {
        "colab": {
          "base_uri": "https://localhost:8080/"
        },
        "id": "MdXMUJrkhifR",
        "outputId": "6e00be7e-ed2a-46f5-e61e-3bb6a96d7082"
      },
      "outputs": [
        {
          "name": "stderr",
          "output_type": "stream",
          "text": [
            "100%|██████████| 3/3 [00:00<00:00,  6.29it/s]\n"
          ]
        },
        {
          "data": {
            "text/plain": [
              "250"
            ]
          },
          "execution_count": 7,
          "metadata": {},
          "output_type": "execute_result"
        }
      ],
      "source": [
        "from multiprocessing import Pool\n",
        "from tqdm import tqdm\n",
        "\n",
        "base_url = params['list_url']\n",
        "\n",
        "urls = []\n",
        "\n",
        "for page in range(1, params['pages']+1):\n",
        "  url = base_url\n",
        "  if page > 1:\n",
        "        url = base_url + \"page/\" + str(page)\n",
        "  urls.append(url)\n",
        "\n",
        "with Pool(4) as pool:\n",
        "  list_of_film_info = []\n",
        "  for result in tqdm(pool.imap(func=get_page_films, iterable=urls), total=len(urls)):\n",
        "      list_of_film_info += result\n",
        "\n",
        "len(list_of_film_info)"
      ]
    },
    {
      "cell_type": "code",
      "execution_count": 8,
      "metadata": {
        "colab": {
          "base_uri": "https://localhost:8080/"
        },
        "id": "kocr3_YdhnP_",
        "outputId": "ef4f1d5c-785f-4ba8-89ca-f68194feb49b"
      },
      "outputs": [
        {
          "name": "stdout",
          "output_type": "stream",
          "text": [
            "Gathered 250 films\n",
            "Outputting file: top_250_fans_films.json\n"
          ]
        }
      ],
      "source": [
        "# output json file\n",
        "print(f\"Gathered {len(list_of_film_info)} films\")\n",
        "print(f\"Outputting file: {params['name_of_save_file']}.json\")\n",
        "with open(params['name_of_save_file']+\".json\", \"w\") as out:\n",
        "  json.dump(list_of_film_info, out)"
      ]
    }
  ],
  "metadata": {
    "colab": {
      "provenance": []
    },
    "kernelspec": {
      "display_name": "Python 3",
      "name": "python3"
    },
    "language_info": {
      "name": "python"
    }
  },
  "nbformat": 4,
  "nbformat_minor": 0
}
